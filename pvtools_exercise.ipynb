{
 "cells": [
  {
   "cell_type": "markdown",
   "metadata": {
    "slideshow": {
     "slide_type": "slide"
    }
   },
   "source": [
    "# pvTools Exercise\n",
    "***"
   ]
  },
  {
   "cell_type": "markdown",
   "metadata": {
    "slideshow": {
     "slide_type": "slide"
    }
   },
   "source": [
    "# pvTools\n",
    "\n",
    "<br>\n",
    "You are going to run some simple example servers and use pvTools to find out the PVs published and their structure, get set and monitor their their values and execute RPCs.  \n"
   ]
  },
  {
   "cell_type": "markdown",
   "metadata": {
    "slideshow": {
     "slide_type": "slide"
    }
   },
   "source": [
    "<p>1. cd to pvaSrv/testTop/iocBoot/testDbPv. Start the server with</p>\n",
    "\n",
    "```\n",
    "   $ ../../bin/linux-x86_64/testDbPv st.cmd\n",
    "```\n",
    "\n",
    "<p>In a separate window.</p>\n",
    "\n",
    "a. Use pvlist to find the set of available channels.\n",
    "\n",
    "b. Use pvinfo to find out the structure of the PVs. \n",
    "\n",
    "c. Use pvget to get the values of some of the the PVs.\n",
    "\n",
    "d. Use pvget with the -r option to get all fields.\n",
    "\n",
    "e. Use the -r option to get selected fields (e.g. value + timeStamp).\n",
    "\n",
    "f. Get combinations of field including subfields of structure fields, such as timeStamp.secondsPastEpoch or alarm.status and alarm.severity.\n",
    "\n",
    "g. Use pvget with the -m option to monitor a PV (you may want to do this in a new window).\n",
    "\n",
    "h. Try setting the PV's value field with pvput.\n",
    "\n",
    "\n"
   ]
  },
  {
   "cell_type": "markdown",
   "metadata": {
    "slideshow": {
     "slide_type": "slide"
    }
   },
   "source": [
    "<p>2. Repeat using the -p option with pva and ca providers and with the URI syntax. Do you get the same results? Find examples where they differ. Why is this?\n",
    "\n",
    "\n"
   ]
  },
  {
   "cell_type": "markdown",
   "metadata": {
    "slideshow": {
     "slide_type": "slide"
    }
   },
   "source": [
    "<p>3. pvDatabaseRPC example: (see <a href=\"http://epics-pvdata.sourceforge.net/docbuild/4.6.0/exampleCPP/documentation/pvDatabaseRPC.html\">here</a> for documentation.)\n",
    "\n",
    "<p>cd to exampleCPP/pvDatabaseRPC. Start the server with</p>\n",
    "\n",
    "```\n",
    "./bin/$EPICS_HOST_ARCH/exampleRPCMain\n",
    "```\n",
    "\n",
    "<p>In a separate window</p>\n",
    "\n",
    "a. Use pvinfo to find the structure of \"mydevice\"\n",
    "\n",
    "b. Try getting the full structure with pvget.\n",
    "\n",
    "c. Get selected subfields.\n",
    "\n",
    "d. Monitor the structure using pvget -m\n",
    "\n",
    "e. Try setting the positionSP.value field using pvget\n",
    "\n",
    "f. Use the client application to do the following operations: configure, run, scan, stop, abort, pause, resume, rewind. Keep track of the values of mydevice with pvget -m.\n",
    "\n",
    "The client can be controlled with\n",
    "```\n",
    "./bin/$EPICS_HOST_ARCH/control <command-name>\n",
    "```\n",
    "(The command help gives help on commands)\n"
   ]
  }
 ],
 "metadata": {
  "celltoolbar": "Slideshow",
  "kernelspec": {
   "display_name": "Python 2",
   "language": "python",
   "name": "python2"
  },
  "language_info": {
   "codemirror_mode": {
    "name": "ipython",
    "version": 2
   },
   "file_extension": ".py",
   "mimetype": "text/x-python",
   "name": "python",
   "nbconvert_exporter": "python",
   "pygments_lexer": "ipython2",
   "version": "2.7.12"
  }
 },
 "nbformat": 4,
 "nbformat_minor": 0
}
