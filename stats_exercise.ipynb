{
 "cells": [
  {
   "cell_type": "markdown",
   "metadata": {
    "slideshow": {
     "slide_type": "slide"
    }
   },
   "source": [
    "# Stats Service Exercise\n",
    "***"
   ]
  },
  {
   "cell_type": "markdown",
   "metadata": {
    "slideshow": {
     "slide_type": "slide"
    }
   },
   "source": [
    "# Stats Service\n",
    "\n",
    "<br>\n",
    "You are going to write a simple service which an array of numbers and returns their mean as well as other statistics.\n"
   ]
  },
  {
   "cell_type": "markdown",
   "metadata": {
    "slideshow": {
     "slide_type": "fragment"
    }
   },
   "source": [
    "A template solution, \"stats-template\", is provided in exercise-templates.\n",
    "\n",
    "Make a copy and fill in the implementation.\n",
    "\n",
    "The layout is very similar to the <a href=\"https://github.com/epics-base/exampleCPP/tree/4.2.2/helloRPC\">Hello World service</a> and the Maths Service in the previous exercise."
   ]
  },
  {
   "cell_type": "markdown",
   "metadata": {
    "slideshow": {
     "slide_type": "slide"
    }
   },
   "source": [
    "<p>1. Create a client which takes a list of arguments, out them in a structure:</p>\n",
    "\n",
    "<pre>\n",
    "structure\n",
    "    double[] value\n",
    "</pre>\n",
    "\n",
    "and sends to a service.\n",
    "\n",
    "You can also set the type ID to make structure this an NTScalarArray:\n",
    "\n",
    "<pre>\n",
    "epics:nt/NTScalarArray:1.0\n",
    "    double[] value\n",
    "</pre>\n",
    "\n",
    "The service will return an NTAggregate. For each field of the NTAggreagate, check if it is present in the returned structure and if so print it out.\n",
    "\n"
   ]
  },
  {
   "cell_type": "markdown",
   "metadata": {
    "slideshow": {
     "slide_type": "slide"
    }
   },
   "source": [
    "<p>2. Using the template \"stats-template\", create a Stats service which takes a structure</p>\n",
    "\n",
    "<pre>\n",
    "structure\n",
    "    double[] value\n",
    "</pre>\n",
    "\n",
    "converts the values of the fields to doubles, calculates the meanand returns the structure\n",
    "\n",
    "<pre>\n",
    "structure\n",
    "    double value\n",
    "    long N\n",
    "</pre>\n",
    "\n",
    "where the value field contains the calculated mean and N the number of samples. Set the type ID to make this an NTAggreate.\n",
    "\n",
    "<pre>\n",
    "epics:nt/NTAggregate:1.0\n",
    "    double value\n",
    "    long N\n",
    "</pre>\n",
    "\n"
   ]
  },
  {
   "cell_type": "markdown",
   "metadata": {
    "slideshow": {
     "slide_type": "slide"
    }
   },
   "source": [
    "<p>3. Add dispersion (e.g. with the standard deviation), max and min fields. You can also add first and last fields:</p>\n",
    "<pre>\n",
    "epics:nt/NTAggregate:1.0\n",
    "    double value\n",
    "    long N\n",
    "    double dispersion\n",
    "    double first\n",
    "    double last\n",
    "    double max\n",
    "    double min\n",
    "</pre>\n",
    "\n",
    "\n"
   ]
  },
  {
   "cell_type": "markdown",
   "metadata": {
    "slideshow": {
     "slide_type": "slide"
    }
   },
   "source": [
    "<p>4. Try using NT wrappers to implement the service and client. Use wrappers to create the structure, wrap a received structure and access the fields.</p>\n",
    "\n",
    "\n",
    "\n"
   ]
  }
 ],
 "metadata": {
  "celltoolbar": "Slideshow",
  "kernelspec": {
   "display_name": "Python 2",
   "language": "python",
   "name": "python2"
  },
  "language_info": {
   "codemirror_mode": {
    "name": "ipython",
    "version": 2
   },
   "file_extension": ".py",
   "mimetype": "text/x-python",
   "name": "python",
   "nbconvert_exporter": "python",
   "pygments_lexer": "ipython2",
   "version": "2.7.12"
  }
 },
 "nbformat": 4,
 "nbformat_minor": 0
}
