{
 "cells": [
  {
   "cell_type": "markdown",
   "metadata": {
    "slideshow": {
     "slide_type": "slide"
    }
   },
   "source": [
    "# Exercise 2\n",
    "\n"
   ]
  },
  {
   "cell_type": "markdown",
   "metadata": {
    "slideshow": {
     "slide_type": "slide"
    }
   },
   "source": [
    "# An NTNDArray Server\n",
    "\n",
    "<br>\n",
    "You are going to use pvDatabase to write a simple server that generates a NTNDArray.\n",
    "\n",
    "A template solution, \"ntndarrayServer-template\", is provided in exercise-templates.\n"
   ]
  },
  {
   "cell_type": "markdown",
   "metadata": {
    "slideshow": {
     "slide_type": "subslide"
    }
   },
   "source": [
    "\n",
    "The class NTNDArrayRecord in ntndarrayServer.h inherits from pvDatabase's PVRecord.\n",
    "\n",
    "In ntndarrayServerMain.cpp an instance of NTNDArrayRecord is created.\n",
    "\n",
    "NTNDArrayRecord starts a thread which calls the function update() on the NTNDArrayRecord, which updates the image.\n",
    "\n"
   ]
  },
  {
   "cell_type": "markdown",
   "metadata": {
    "slideshow": {
     "slide_type": "subslide"
    }
   },
   "source": [
    "Update() calls 6 private functions to update to the image represented by the NTNDArray.\n",
    "\n",
    "``` C++\n",
    "\n",
    "void setValue(epics::pvData::PVByteArray::const_svector \n",
    "        const & bytes);\n",
    "void setDimension(const int32_t * dims, size_t ndims);\n",
    "void setAttributes();\n",
    "void setSizes(int64_t size);\n",
    "void setUniqueId(int32_t id);\n",
    "void setDataTimeStamp();\n",
    "    \n",
    "```\n",
    "\n",
    "The image data is calculated for you in update using a class RotatingImageGenerator.\n",
    "\n",
    "The pvDatabase parts and update thread are done for you.\n",
    "\n",
    "All you have to do is fill in the missing implementation of 5 of the functions using the pvData API (setUniqueId() has been done for you).\n",
    "\n",
    "The first 3 are enough for the image to display in cs-studio.\n"
   ]
  },
  {
   "cell_type": "markdown",
   "metadata": {
    "slideshow": {
     "slide_type": "slide"
    }
   },
   "source": [
    "<p>1. Copy the template \"ntndarrayServer-template\" and build it.</p>\n",
    "\n",
    "\n",
    "Starting the server with\n",
    "\n",
    "```BASH\n",
    "   $ ./bin/linux-x86_64/ntndarrayServer <pv-name>\n",
    "```\n",
    "\n",
    "<br>\n",
    "\n",
    "Use pvtools (pvinfo, pvget, pvget -m) to see what's happening. \n"
   ]
  },
  {
   "cell_type": "markdown",
   "metadata": {
    "slideshow": {
     "slide_type": "slide"
    }
   },
   "source": [
    "<p>2. Implement setValue():</p>\n",
    "\n",
    "* Get the union value field\n",
    "* Select the byteValue field stored in \"value\"\n",
    "* Replace the shared vector with \"bytes\"\n",
    "* Call postPut so that the union sees the change in the stored field  \n",
    "\n"
   ]
  },
  {
   "cell_type": "markdown",
   "metadata": {
    "slideshow": {
     "slide_type": "slide"
    }
   },
   "source": [
    "<p>3. Implement setDimension():</p>\n",
    "\n",
    "* Get the dimension field\n",
    "* Create a shared_vector or try to reuse the dimension field's one  \n",
    "* Resize/reserve the number of elements\n",
    "* Iterate over the number of dimensions, creating and adding the appropriate dimension structures.\n",
    "* Replace the dimension field's shared_vector (Remember to freeze first)\n",
    "\n",
    "\n",
    "\n",
    "\n",
    "\n",
    "\n",
    "\n",
    "\n",
    "\n",
    "\n",
    "\n"
   ]
  },
  {
   "cell_type": "markdown",
   "metadata": {
    "slideshow": {
     "slide_type": "slide"
    }
   },
   "source": [
    "<p>4. Implement setAttributes():</p>\n",
    "\n",
    "* Get the attribute field\n",
    "* Create a shared vector or reuse\n",
    "* Create an attribute for the Color Mode\n",
    "    * name: ColorMode\n",
    "    * value: variant union stores a PVInt with value 0\n",
    "    * descriptor: \"Color mode\"\n",
    "    * source: \"\"\n",
    "    * sourceType = 0\n",
    "    \n",
    "* Add the attribute to the shared_vector\n",
    "* Replace the attribute fields stored"
   ]
  },
  {
   "cell_type": "markdown",
   "metadata": {
    "slideshow": {
     "slide_type": "slide"
    }
   },
   "source": [
    "<p>5. Display your image in a CS-Stdio VImage:</p>\n",
    "\n",
    "This should be enough to display the image.\n",
    "\n",
    "* In a CS-Studio BOY screen add a VImage widget\n",
    "* Set the pv name: =image('pva://<pv-name>')\n",
    "* Run the BOY screen\n",
    "* Start the server"
   ]
  },
  {
   "cell_type": "markdown",
   "metadata": {
    "slideshow": {
     "slide_type": "slide"
    }
   },
   "source": [
    "<p>6. Implement setSizes():</p>\n",
    "\n",
    "* Set the (long) compressedSize and uncompressedSize fields\n"
   ]
  },
  {
   "cell_type": "markdown",
   "metadata": {
    "slideshow": {
     "slide_type": "slide"
    }
   },
   "source": [
    "<p>7. setDataTimeStamp()\n",
    "\n",
    "* Create PVTimeStamp and TimeStamp objects\n",
    "* Attach the dataTimeStamp field to the PVTimeStamp\n",
    "* TimeStamp object should get the current time\n",
    "* Use it to set the dataTimeStamp field\n",
    "\n",
    "<BR>\n",
    "Alternatively:\n",
    "\n",
    "* You can use the member objects already created\n",
    "  for you and do the attaching once\n"
   ]
  }
 ],
 "metadata": {
  "celltoolbar": "Slideshow",
  "kernelspec": {
   "display_name": "Python 2",
   "language": "python",
   "name": "python2"
  },
  "language_info": {
   "codemirror_mode": {
    "name": "ipython",
    "version": 2
   },
   "file_extension": ".py",
   "mimetype": "text/x-python",
   "name": "python",
   "nbconvert_exporter": "python",
   "pygments_lexer": "ipython2",
   "version": "2.7.11"
  }
 },
 "nbformat": 4,
 "nbformat_minor": 0
}
