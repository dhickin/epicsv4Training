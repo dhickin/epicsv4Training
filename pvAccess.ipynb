{
 "cells": [
  {
   "cell_type": "markdown",
   "metadata": {
    "slideshow": {
     "slide_type": "slide"
    }
   },
   "source": [
    "# pvAccess Overview"
   ]
  },
  {
   "cell_type": "markdown",
   "metadata": {
    "slideshow": {
     "slide_type": "slide"
    }
   },
   "source": [
    "# pvAccess\n",
    "\n",
    "<br>\n",
    "\n",
    "pvAccess is the EPICS Version 4 communication protocol.\n",
    "\n",
    "High performance network protocol.\n",
    "\n",
    "Designed to carry pvData.\n",
    "\n",
    "Successor to Channel Access."
   ]
  },
  {
   "cell_type": "markdown",
   "metadata": {
    "slideshow": {
     "slide_type": "subslide"
    }
   },
   "source": [
    "Two key concepts\n",
    "\n",
    "* Channel\n",
    "\n",
    "* Channel Provider\n",
    "\n"
   ]
  },
  {
   "cell_type": "markdown",
   "metadata": {
    "slideshow": {
     "slide_type": "slide"
    }
   },
   "source": [
    "# Channel\n",
    "\n",
    "<br>\n",
    "\n",
    "Channel services:\n",
    "\n",
    "* Get Field: Get the pvData introspection data\n",
    "* Channel Get: Get data.\n",
    "* Channel Put: Put data.\n",
    "* Channel PutGet: Put data, let server process it, and then get result.\n",
    "* Channel Monitor: Monitor pvData changes.\n",
    "* Channel Array: Get/Put subArray data.\n",
    "* channelRPC\n",
    "\n"
   ]
  },
  {
   "cell_type": "markdown",
   "metadata": {
    "slideshow": {
     "slide_type": "slide"
    }
   },
   "source": [
    "# Channel Provider\n",
    "\n",
    "<br>\n",
    "\n",
    "Something which implements Channel\n",
    "\n",
    "Remote and local providers\n"
   ]
  },
  {
   "cell_type": "markdown",
   "metadata": {
    "slideshow": {
     "slide_type": "subslide"
    }
   },
   "source": [
    "### Remote providers\n",
    "\n",
    "<br>\n",
    "\n",
    "ca and pva\n",
    "\n",
    "* pva uses pvAccess one the wire. Local Channel provider registered with servers pvAccess provides the channel.\n",
    "\n",
    "* ca uses ca on the wire. caProvider on client assembles pvData structures from DBR types\n",
    "\n",
    "\n"
   ]
  },
  {
   "cell_type": "markdown",
   "metadata": {
    "slideshow": {
     "slide_type": "subslide"
    }
   },
   "source": [
    "### Local providers\n",
    "\n",
    "<br>\n",
    "\n",
    "* rpcServer (pvAccess)\n",
    "* dbPV (pvaSrv)\n",
    "* local (pvDatabase)\n",
    "\n",
    "\n"
   ]
  },
  {
   "cell_type": "markdown",
   "metadata": {
    "slideshow": {
     "slide_type": "slide"
    }
   },
   "source": [
    "# Getting a PV\n",
    "\n",
    "<br>\n",
    "\n",
    "* Channel Find (UDP broadcast)\n",
    "* Channel create \n",
    "* GetField (optional)\n",
    "* Create Channel Get \n",
    "* Do Channel Get (with destoy) (Get status, data, changed bitset)\n",
    "* Detroy Channel\n",
    "\n"
   ]
  }
 ],
 "metadata": {
  "celltoolbar": "Slideshow",
  "kernelspec": {
   "display_name": "Python 2",
   "language": "python",
   "name": "python2"
  },
  "language_info": {
   "codemirror_mode": {
    "name": "ipython",
    "version": 2
   },
   "file_extension": ".py",
   "mimetype": "text/x-python",
   "name": "python",
   "nbconvert_exporter": "python",
   "pygments_lexer": "ipython2",
   "version": "2.7.11"
  }
 },
 "nbformat": 4,
 "nbformat_minor": 0
}
