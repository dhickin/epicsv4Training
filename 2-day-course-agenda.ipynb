{
 "cells": [
  {
   "cell_type": "markdown",
   "metadata": {
    "slideshow": {
     "slide_type": "slide"
    }
   },
   "source": [
    "# Agenda\n",
    "\n",
    "## Day 1\n",
    "\n",
    "* Introductions and [ course overview ](2-day-course-overview.slides.html)\n",
    "* [ Introduction EPICS V4 ](introduction.slides.html): What is EPICS V4 and what can I do with it?\n",
    "* [ Demos ](http://epics-pvdata.sourceforge.net/informative/training/epicsv4_overview.html#running_examples_and_pvtools)\n",
    "* [ Overview of V4 developments ](overview.slides.html)\n",
    "* pvTools: [ Overview ](http://epics-pvdata.sourceforge.net/informative/training/epicsv4_overview.html#pvtools) and\n",
    "[ Exercise ](pvtools_exercise.slides.html)\n",
    "* [ pvData - Part I ](pvData.slides.html) (Structures. Scalar, Structure and Scalar Array fields)\n",
    "* [ First RPC service - Hello World ](http://epics-pvdata.sourceforge.net/informative/training/epicsv4_overview.html#rpc_service_example)\n",
    "* [ Writing RPC service - Maths Service exercise ](maths_exercise.slides.html)\n",
    "* [ pvData APIs - Part I ](http://epics-pvdata.sourceforge.net/informative/training/epicsv4_overview.html#pvdata)\n",
    "(Union, Structure Array and Union Array fields)\n",
    "* [ Stats service exercise ](stats_exercise.slides.html)\n",
    "* Normative Types\n",
    "* [ pvData - Part II ](pvData.slides.html)\n",
    "\n"
   ]
  },
  {
   "cell_type": "markdown",
   "metadata": {
    "slideshow": {
     "slide_type": "slide"
    }
   },
   "source": [
    "# Agenda\n",
    "\n",
    "\n",
    "## Day 2\n",
    " \n",
    "* [ pvData APIs - Part II ](http://epics-pvdata.sourceforge.net/informative/training/epicsv4_overview.html#pvdata)\n",
    "* [ NDArray exercise ](ndarray_exercise.slides.html)\n",
    "* pvDatabase\n",
    "* pvaClient\n",
    "* ROI exercise\n",
    "* pvaPy\n",
    "* pvAccess\n",
    "\n",
    "###Course Materials\n",
    "\n",
    "[ C++ ](http://epics-pvdata.sourceforge.net/informative/training/exercises.tar.gz)\n",
    "[ Java ](http://epics-pvdata.sourceforge.net/informative/training/ntndarrayJava.tar.gz)\n",
    "\n"
   ]
  }
 ],
 "metadata": {
  "celltoolbar": "Slideshow",
  "kernelspec": {
   "display_name": "Python 2",
   "language": "python",
   "name": "python2"
  },
  "language_info": {
   "codemirror_mode": {
    "name": "ipython",
    "version": 2
   },
   "file_extension": ".py",
   "mimetype": "text/x-python",
   "name": "python",
   "nbconvert_exporter": "python",
   "pygments_lexer": "ipython2",
   "version": "2.7.12"
  }
 },
 "nbformat": 4,
 "nbformat_minor": 0
}
