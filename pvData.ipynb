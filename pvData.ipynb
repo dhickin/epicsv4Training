{
 "cells": [
  {
   "cell_type": "markdown",
   "metadata": {
    "slideshow": {
     "slide_type": "slide"
    }
   },
   "source": [
    "# pvData Overview"
   ]
  },
  {
   "cell_type": "markdown",
   "metadata": {
    "slideshow": {
     "slide_type": "slide"
    }
   },
   "source": [
    "# An aggregate data type\n",
    "\n",
    "Suppose want to encode a statistical summary of N floating point values.\n",
    "Let’s say we want\n",
    "1.\tA mean (or some other sort average)\n",
    "2.\tThe number of samples\n",
    "3.\tThe standard deviation (or some other measure of spread)\n",
    "4.\tThe maximum value\n",
    "5.\tThe minimum value"
   ]
  },
  {
   "cell_type": "markdown",
   "metadata": {
    "slideshow": {
     "slide_type": "subslide"
    }
   },
   "source": [
    "We could encode this as structure consisting of an ordered set of fields.  \n",
    "Each field has a name and a type.  \n",
    "Let’s say:  \n",
    "1.\tA 64-bit floating point field for the average. Let’s call this type “double”. For the name of the field, we could choose “average”, but let’s call it value.\n",
    "2.\tA 64-bit integer field for the number of samples. Let’s call the type “long” and name the field “N”.\n",
    "3.\tA double field for the spread. Let’s call it “dispersion”\n",
    "4.\tA double field “max”\n",
    "5.\tA double field “min”\n",
    "\n"
   ]
  },
  {
   "cell_type": "markdown",
   "metadata": {
    "slideshow": {
     "slide_type": "subslide"
    }
   },
   "source": [
    "We can write a description of our type as follows:  \n",
    "```java\n",
    "    structure\n",
    "        double value\n",
    "        long N\n",
    "        double dispersion\n",
    "        double max\n",
    "        double min\n",
    "```"
   ]
  },
  {
   "cell_type": "markdown",
   "metadata": {
    "slideshow": {
     "slide_type": "subslide"
    }
   },
   "source": [
    "Let’s say we have 1000 samples with a mean of 2.0, a standard deviation of 1.0 and a minimum of 0.1 and a maximum of 4.4. We could our encoding of the statistical summary as:\n",
    " \n",
    "```java\n",
    "    structure\n",
    "        double value       2.0\n",
    "        long N            1000\n",
    "        double dispersion  1.0 \n",
    "        double max         4.4\n",
    "        double min         0.1\n",
    "```\n",
    "This system of encoding data in EPICS V4 is called pvData and this way of writing pvData structures is called the pvData meta language."
   ]
  },
  {
   "cell_type": "markdown",
   "metadata": {
    "slideshow": {
     "slide_type": "subslide"
    }
   },
   "source": [
    "Some jargon:\n",
    "There are two types of objects in pvData: *Introspection objects* and *data objects*."
   ]
  },
  {
   "cell_type": "markdown",
   "metadata": {
    "slideshow": {
     "slide_type": "fragment"
    }
   },
   "source": [
    "The first type of structure above, which describes the type of a piece of structured data, is an example of an *introspection object*.\n"
   ]
  },
  {
   "cell_type": "markdown",
   "metadata": {
    "slideshow": {
     "slide_type": "fragment"
    }
   },
   "source": [
    "The second structure, which carries values, is called a *data object*.\n",
    "Structure data objects have an *introspection object* and some of the fields can carry data (as in the case above)."
   ]
  },
  {
   "cell_type": "markdown",
   "metadata": {
    "slideshow": {
     "slide_type": "fragment"
    }
   },
   "source": [
    "The values of the fields are referred to as the *value data* of the fields. The value data of a structure’s fields are called the *value data* of the structure."
   ]
  },
  {
   "cell_type": "markdown",
   "metadata": {
    "slideshow": {
     "slide_type": "fragment"
    }
   },
   "source": [
    "The introspection object corresponding to a data object is referred to as its *introspection data* or its *introspection type*."
   ]
  },
  {
   "cell_type": "markdown",
   "metadata": {
    "slideshow": {
     "slide_type": "subslide"
    }
   },
   "source": [
    "We can additionally give the type of the structure a name, called the type ID which helps identify the structure. The default type ID for a structure is **structure**.  \n",
    "The above structure is an example of a standard structure (a Normative Type) called **NTAggregate**. So let’s give it the type ID `NTAggregate`."
   ]
  },
  {
   "cell_type": "markdown",
   "metadata": {
    "slideshow": {
     "slide_type": "subslide"
    }
   },
   "source": []
  },
  {
   "cell_type": "markdown",
   "metadata": {
    "slideshow": {
     "slide_type": "fragment"
    }
   },
   "source": [
    "When we write a structure we typically write it with the type ID:\n",
    "```java\n",
    "    NTAggregate\n",
    "    double value\n",
    "    long N\n",
    "    double dispersion\n",
    "    double max\n",
    "    double min\n",
    "```"
   ]
  },
  {
   "cell_type": "markdown",
   "metadata": {
    "slideshow": {
     "slide_type": "fragment"
    }
   },
   "source": [
    "and the data object above as\n",
    "```java\n",
    "    NTAggregate\n",
    "    double value       2.0\n",
    "    long N            1000\n",
    "    double dispersion  1.0 \n",
    "    double max         4.4\n",
    "    double min         0.1\n",
    "```"
   ]
  },
  {
   "cell_type": "markdown",
   "metadata": {
    "slideshow": {
     "slide_type": "slide"
    }
   },
   "source": [
    "# Structure subfields\n",
    "\n",
    "\n",
    "Now suppose we want to add timestamps for the first and last sample in the data. We could encode the timestamp using the structure:\n",
    "```java\n",
    "    time_t\n",
    "        long secondsPastEpoch\n",
    "        int nanoseconds\n",
    "        int userTag\n",
    "```\n",
    "where `int` denotes a 32-bit signed integer"
   ]
  },
  {
   "cell_type": "markdown",
   "metadata": {
    "slideshow": {
     "slide_type": "subslide"
    }
   },
   "source": [
    "We could then add structure subfields to our NTAggregate:\n",
    "```java\n",
    "    NTAggregate\n",
    "        double value\n",
    "        long N\n",
    "        double dispersion\n",
    "        double max\n",
    "        double min\n",
    "        time_t firstTimeStamp\n",
    "            long secondsPastEpoch\n",
    "            int nanoseconds\n",
    "            int userTag\n",
    "        time_t lastTimeStamp\n",
    "            long secondsPastEpoch\n",
    "            int nanoseconds\n",
    "            int userTag\n",
    "```"
   ]
  },
  {
   "cell_type": "markdown",
   "metadata": {
    "slideshow": {
     "slide_type": "subslide"
    }
   },
   "source": [
    "The two timestamp fields are fields of the top-level structure as well as the previous scalar fields.\n",
    "\n",
    "Their introspection type is the `time_t` structure described above. These fields are themselves structures with fields secondsPastEpoch, nanoseconds and userTag.  \n",
    "\n",
    "The indentation rules are similar to the indentation rules in Python."
   ]
  },
  {
   "cell_type": "markdown",
   "metadata": {
    "slideshow": {
     "slide_type": "subslide"
    }
   },
   "source": [
    "An example of a corresponding data object would be: \n",
    "```java\n",
    "    NTAggregate\n",
    "        double value       2.0\n",
    "        long N            1000\n",
    "        double dispersion  1.0 \n",
    "        double max         4.4\n",
    "        double min         0.1\n",
    "        time_t firstTimeStamp\n",
    "            long secondsPastEpoch 1460589140\n",
    "            int nanoseconds         11436967\n",
    "            int userTag                    0\n",
    "        time_t lastTimeStamp\n",
    "            long secondsPastEpoch 1460589149\n",
    "            int nanoseconds        889605397\n",
    "            int userTag                    0\n",
    "```"
   ]
  },
  {
   "cell_type": "markdown",
   "metadata": {
    "slideshow": {
     "slide_type": "skip"
    }
   },
   "source": [
    "<stop here>\n",
    "\n",
    "pvData \n",
    " \n",
    "In general a pvData structure consists of\n",
    "0 or more fields\n",
    "A type ID\n",
    "A data object"
   ]
  }
 ],
 "metadata": {
  "celltoolbar": "Slideshow",
  "kernelspec": {
   "display_name": "Python 2",
   "language": "python",
   "name": "python2"
  },
  "language_info": {
   "codemirror_mode": {
    "name": "ipython",
    "version": 2
   },
   "file_extension": ".py",
   "mimetype": "text/x-python",
   "name": "python",
   "nbconvert_exporter": "python",
   "pygments_lexer": "ipython2",
   "version": "2.7.6"
  }
 },
 "nbformat": 4,
 "nbformat_minor": 0
}
