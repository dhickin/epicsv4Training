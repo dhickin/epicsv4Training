{
 "cells": [
  {
   "cell_type": "markdown",
   "metadata": {
    "slideshow": {
     "slide_type": "slide"
    }
   },
   "source": [
    "# pvData Overview"
   ]
  },
  {
   "cell_type": "markdown",
   "metadata": {
    "slideshow": {
     "slide_type": "slide"
    }
   },
   "source": [
    "# An aggregate data type\n",
    "<br/>\n",
    "Suppose want to encode a statistical summary of N floating point values.\n",
    "Let’s say we want\n",
    "1.\tA mean (or some other sort average)\n",
    "2.\tThe number of samples\n",
    "3.\tThe standard deviation (or some other measure of spread)\n",
    "4.\tThe maximum value\n",
    "5.\tThe minimum value"
   ]
  },
  {
   "cell_type": "markdown",
   "metadata": {
    "slideshow": {
     "slide_type": "subslide"
    }
   },
   "source": [
    "We could encode this as structure consisting of an ordered set of fields.  \n",
    "Each field has a name and a type.  \n",
    "Let’s say:  \n",
    "1.\tA 64-bit floating point field for the average. Let’s call this type “double”. For the name of the field, we could choose “average”, but let’s call it value.\n",
    "2.\tA 64-bit integer field for the number of samples. Let’s call the type “long” and name the field “N”.\n",
    "3.\tA double field for the spread. Let’s call it “dispersion”\n",
    "4.\tA double field “max”\n",
    "5.\tA double field “min”\n",
    "\n"
   ]
  },
  {
   "cell_type": "markdown",
   "metadata": {
    "slideshow": {
     "slide_type": "subslide"
    }
   },
   "source": [
    "We can write a description of our type as follows:  \n",
    "```\n",
    "structure\n",
    "    double value\n",
    "    long N\n",
    "    double dispersion\n",
    "    double max\n",
    "    double min\n",
    "```"
   ]
  },
  {
   "cell_type": "markdown",
   "metadata": {
    "slideshow": {
     "slide_type": "subslide"
    }
   },
   "source": [
    "Let’s say we have 1000 samples with a mean of 2.0, a standard deviation of 1.0 and a minimum of 0.1 and a maximum of 4.4. We could our encoding of the statistical summary as:\n",
    " \n",
    "```\n",
    "structure\n",
    "    double value       2.0\n",
    "    long N            1000\n",
    "    double dispersion  1.0 \n",
    "    double max         4.4\n",
    "    double min         0.1\n",
    "```\n",
    "This system of encoding data in EPICS V4 is called pvData and this way of writing pvData structures is called the pvData meta language."
   ]
  },
  {
   "cell_type": "markdown",
   "metadata": {
    "slideshow": {
     "slide_type": "subslide"
    }
   },
   "source": [
    "Some jargon:\n",
    "There are two types of objects in pvData: *Introspection objects* and *data objects*."
   ]
  },
  {
   "cell_type": "markdown",
   "metadata": {
    "slideshow": {
     "slide_type": "fragment"
    }
   },
   "source": [
    "The first type of structure above, which describes the type of a piece of structured data, is an example of an *introspection object*.\n"
   ]
  },
  {
   "cell_type": "markdown",
   "metadata": {
    "slideshow": {
     "slide_type": "fragment"
    }
   },
   "source": [
    "The second structure, which carries values, is called a *data object*.\n",
    "Structure data objects have an *introspection object* and some of the fields can carry data (as in the case above)."
   ]
  },
  {
   "cell_type": "markdown",
   "metadata": {
    "slideshow": {
     "slide_type": "fragment"
    }
   },
   "source": [
    "The values of the fields are referred to as the *value data* of the fields. The value data of a structure’s fields are called the *value data* of the structure."
   ]
  },
  {
   "cell_type": "markdown",
   "metadata": {
    "slideshow": {
     "slide_type": "fragment"
    }
   },
   "source": [
    "The introspection object corresponding to a data object is referred to as its *introspection data* or its *introspection type*."
   ]
  },
  {
   "cell_type": "markdown",
   "metadata": {
    "slideshow": {
     "slide_type": "subslide"
    }
   },
   "source": [
    "We can additionally give the type of the structure a name, called the type ID which helps identify the structure. The default type ID for a structure is **structure**.  \n",
    "\n",
    "The above structure is an example of a standard structure (a Normative Type) called NTAggregate. So let’s give it the type ID **NTAggregate**."
   ]
  },
  {
   "cell_type": "markdown",
   "metadata": {
    "slideshow": {
     "slide_type": "subslide"
    }
   },
   "source": []
  },
  {
   "cell_type": "markdown",
   "metadata": {
    "slideshow": {
     "slide_type": "fragment"
    }
   },
   "source": [
    "When we write a structure we typically write it with the type ID:\n",
    "```\n",
    "NTAggregate\n",
    "    double value\n",
    "    long N\n",
    "    double dispersion\n",
    "    double max\n",
    "    double min\n",
    "```"
   ]
  },
  {
   "cell_type": "markdown",
   "metadata": {
    "slideshow": {
     "slide_type": "fragment"
    }
   },
   "source": [
    "and the data object above as\n",
    "```\n",
    "NTAggregate\n",
    "    double value       2.0\n",
    "    long N            1000\n",
    "    double dispersion  1.0 \n",
    "    double max         4.4\n",
    "    double min         0.1\n",
    "```"
   ]
  },
  {
   "cell_type": "markdown",
   "metadata": {
    "slideshow": {
     "slide_type": "slide"
    }
   },
   "source": [
    "# Structure subfields\n",
    "<br/>\n",
    "Now suppose we want to add timestamps for the first and last sample in the data. We could encode the timestamp using the structure:\n",
    "```\n",
    "time_t\n",
    "    long secondsPastEpoch\n",
    "    int nanoseconds\n",
    "    int userTag\n",
    "```\n",
    "where **int** denotes a 32-bit signed integer"
   ]
  },
  {
   "cell_type": "markdown",
   "metadata": {
    "slideshow": {
     "slide_type": "subslide"
    }
   },
   "source": [
    "We could then add structure subfields to our NTAggregate:\n",
    "```\n",
    "NTAggregate\n",
    "    double value\n",
    "    long N\n",
    "    double dispersion\n",
    "    double max\n",
    "    double min\n",
    "    time_t firstTimeStamp\n",
    "        long secondsPastEpoch\n",
    "        int nanoseconds\n",
    "        int userTag\n",
    "    time_t lastTimeStamp\n",
    "        long secondsPastEpoch\n",
    "        int nanoseconds\n",
    "        int userTag\n",
    "```"
   ]
  },
  {
   "cell_type": "markdown",
   "metadata": {
    "slideshow": {
     "slide_type": "subslide"
    }
   },
   "source": [
    "The two timestamp fields are fields of the top-level structure as well as the previous scalar fields.\n",
    "\n",
    "Their introspection type is the **time_t** structure described above. These fields are themselves structures with fields secondsPastEpoch, nanoseconds and userTag.  \n",
    "\n",
    "The indentation rules are similar to the indentation rules in Python."
   ]
  },
  {
   "cell_type": "markdown",
   "metadata": {
    "slideshow": {
     "slide_type": "subslide"
    }
   },
   "source": [
    "An example of a corresponding data object would be: \n",
    "```\n",
    "NTAggregate\n",
    "    double value       2.0\n",
    "    long N            1000\n",
    "    double dispersion  1.0 \n",
    "    double max         4.4\n",
    "    double min         0.1\n",
    "    time_t firstTimeStamp\n",
    "        long secondsPastEpoch 1460589140\n",
    "        int nanoseconds         11436967\n",
    "        int userTag                    0\n",
    "    time_t lastTimeStamp\n",
    "        long secondsPastEpoch 1460589149\n",
    "        int nanoseconds        889605397\n",
    "        int userTag                    0\n",
    "```"
   ]
  },
  {
   "cell_type": "markdown",
   "metadata": {
    "slideshow": {
     "slide_type": "slide"
    }
   },
   "source": [
    "# pvData structures\n",
    "<br/>\n",
    "In general a pvData structure consists of\n",
    "* 0 or more fields\n",
    "* A type ID\n",
    "\n",
    "<br/>\n",
    "Each field has\n",
    "* A name\n",
    "* An introspection type\n",
    "\n",
    "<br/>\n",
    "For data objects a field may also have values.\t"
   ]
  },
  {
   "cell_type": "markdown",
   "metadata": {
    "slideshow": {
     "slide_type": "subslide"
    }
   },
   "source": [
    "We write a structure as the type ID followed by 0 or more fields on subsequent lines, 1 per line, indented. The precise amount of indentation is not significant, only the level relative to other fields.\n",
    "\n",
    "An example is the **NTAggregate** we’ve seen already:\n",
    "\n",
    "```\n",
    "NTAggregate\n",
    "    double value\n",
    "    long N\n",
    "    double dispersion\n",
    "    double max\n",
    "    double min\n",
    "```"
   ]
  },
  {
   "cell_type": "markdown",
   "metadata": {
    "slideshow": {
     "slide_type": "slide"
    }
   },
   "source": [
    "# Field Types\n",
    "<br/>\n",
    "There are 6 basic field types namely\n",
    "\n",
    "  * Scalars\n",
    "  * Scalar arrays\n",
    "  * Structures\n",
    "  * Structure arrays\n",
    "  * Union\n",
    "  * Union arrays\n",
    "\n",
    "<br/>\n",
    "This field type is part of the introspection type of the field.\n",
    "\n",
    "We’ve already seen examples of two of these: scalars and structures."
   ]
  },
  {
   "cell_type": "markdown",
   "metadata": {
    "slideshow": {
     "slide_type": "slide"
    }
   },
   "source": [
    "# Scalar Fields\n",
    "<br/>\n",
    "In general scalar fields can be one of the following scalar types\n",
    "  * boolean\n",
    "  * 8, 16, 32 or 64-bit signed integers: byte, short, int, long\n",
    "  * 8, 16, 32 or 64-bit signed integers: ubyte, ushort, uint, ulong\n",
    "  * 32 or 64-bit floating point numbers: float, double\n",
    "  * string\n",
    "\n",
    "<br/>\n",
    "The scalar types are based on the Java primitive types with the addition of unsigned integers and string.\n",
    "\n",
    "The scalar type entirely specifies the introspection type of a scalar field."
   ]
  },
  {
   "cell_type": "markdown",
   "metadata": {
    "slideshow": {
     "slide_type": "subslide"
    }
   },
   "source": [
    "<sub-slide> \n",
    "For data objects, scalar fields additionally have value data.\n",
    "\n",
    "The possible values for the data for each type are what you would expect. For example:\n",
    "\n",
    "  * boolean: true or false\n",
    "  * byte: integer in the range -128 to 127\n",
    "  * ushort: integer in the range 0 to 65535\n",
    "  * double: 64-bit (IEEE 754) floating point value (e.g 0.1, -3.5e-7, NaN)"
   ]
  },
  {
   "cell_type": "markdown",
   "metadata": {
    "slideshow": {
     "slide_type": "subslide"
    }
   },
   "source": [
    "The introspection type is written in the pvData meta language as\n",
    "```\n",
    "<scalar-type>\n",
    "```\n",
    "and scalar field as \n",
    "```\n",
    "<scalar-type> <field-name>\n",
    "```\n",
    "<br/>\n",
    "Examples:\n",
    "```\n",
    "double value\n",
    "long N\n",
    "string message\n",
    "```"
   ]
  },
  {
   "cell_type": "markdown",
   "metadata": {
    "slideshow": {
     "slide_type": "subslide"
    }
   },
   "source": [
    "For data objects fields are written as\n",
    "```\n",
    "<scalar-type> <field-name> <value>\n",
    "```\n",
    "<br/>\n",
    "Examples:\n",
    "```\n",
    "double value 3.14159\n",
    "long N 1000\n",
    "string message HIHI_ALARM\n",
    "```"
   ]
  },
  {
   "cell_type": "markdown",
   "metadata": {
    "slideshow": {
     "slide_type": "slide"
    }
   },
   "source": [
    "# Structure fields\n",
    "<br/>\n",
    "For an introspection object, a structure field, as for fields of all types, consists of introspection object and a field name.\n",
    "\n",
    "For a structure field that introspection object is itself a structure.\n",
    "\n",
    "In other words the top-level structure has a field whose introspection object is a structure."
   ]
  },
  {
   "cell_type": "markdown",
   "metadata": {
    "slideshow": {
     "slide_type": "subslide"
    }
   },
   "source": [
    "As usual we write a structure with structure fields by added the fields one per line, indented, after the type ID.\n",
    "\n",
    "For the structure fields we indent their fields one level further.\n",
    "```\n",
    "NTScalar\n",
    "    double value\n",
    "    alarm_t alarm\n",
    "        int severity\n",
    "        int status\n",
    "        string message\n",
    "    time_t timeStamp\n",
    "        long secondsPastEpoch\n",
    "        int nanoseconds\n",
    "        int userTag\n",
    "```"
   ]
  },
  {
   "cell_type": "markdown",
   "metadata": {
    "slideshow": {
     "slide_type": "subslide"
    }
   },
   "source": [
    "Data objects are similar except the fields of a structure field may have values.\n",
    "\n",
    "```\n",
    "NTScalar\n",
    "    double value              8\n",
    "    alarm_t alarm\n",
    "        int severity          2\n",
    "        int status            3\n",
    "        string message        HIHI_ALARM\n",
    "    time_t timeStamp\n",
    "        long secondsPastEpoch 1460589140\n",
    "        int nanoseconds       389605397\n",
    "        int userTag           0\n",
    "```"
   ]
  },
  {
   "cell_type": "markdown",
   "metadata": {
    "slideshow": {
     "slide_type": "subslide"
    }
   },
   "source": [
    "So in this case the top-level structure has a structure field\n",
    "```\n",
    "alarm_t alarm\n",
    "    int severity\n",
    "    int status\n",
    "    string message\n",
    "```\n",
    "<br/>\n",
    "whose name is **alarm** and whose introspection type is the structure\n",
    "```\n",
    "alarm_t\n",
    "    int severity\n",
    "    int status\n",
    "    string message\n",
    "```\n",
    "<br/>\n",
    "and a second structure field\n",
    "```\n",
    "time_t timeStamp\n",
    "    long secondsPastEpoch\n",
    "    int nanoseconds\n",
    "    int userTag\n",
    "```\n",
    "<br/>\n",
    "whose introspection type is the structure\n",
    "```\n",
    "time_t\n",
    "    long secondsPastEpoch\n",
    "    int nanoseconds\n",
    "    int userTag\n",
    "```"
   ]
  },
  {
   "cell_type": "markdown",
   "metadata": {
    "slideshow": {
     "slide_type": "slide"
    }
   },
   "source": [
    "# Scalar Arrays\n",
    "<br/>\n",
    "Suppose we want to encode a table of archiver data for a PV whose value is double.\n",
    "\n",
    "We want columns for the value, the seconds past UNIX epoch, nanoseconds and the alarm severities and statuses. We’ll also have a label for each column."
   ]
  },
  {
   "cell_type": "markdown",
   "metadata": {
    "slideshow": {
     "slide_type": "subslide"
    }
   },
   "source": [
    "<sub-slide>\n",
    "We could encode this as a structure with one field for each column. These fields will be array fields with elements of the appropriate type. We’ll also have an array of strings for the labels. To separate the columns from the labels we’ll put it in a sub-structure. Call it **value** as it’s the primary value of the structure:\n",
    "```\n",
    "NTTable\n",
    "    string[] labels\n",
    "    structure value\n",
    "        double[] value\n",
    "        long[] secondsPastEpoch\n",
    "        int[] nanoseconds \n",
    "        int[] severity\n",
    "        int[] status\n",
    "```\n",
    "\n",
    "**string[ ]** denotes string array field and so on."
   ]
  },
  {
   "cell_type": "markdown",
   "metadata": {
    "slideshow": {
     "slide_type": "subslide"
    }
   },
   "source": [
    "<sub-slide>\n",
    "An example of a corresponding data object is:\n",
    "<pre>\n",
    "NTTable\n",
    "    string[] labels [value,  seconds, nanoseconds,  status, severity]\n",
    "    structure value\n",
    "        double[] value          [       1.1,       1.2,         2.0]\n",
    "        long[] secondsPastEpoch [1460589140, 1460589141, 1460589142]\n",
    "        int[] nanoseconds       [ 164235768,  164235245,  164235256]\n",
    "        int[] severity          [         0,          0,          1]\n",
    "        int[] status            [         0,          0,          3]\n",
    "</pre>"
   ]
  },
  {
   "cell_type": "markdown",
   "metadata": {
    "slideshow": {
     "slide_type": "subslide"
    }
   },
   "source": [
    "<sub-slide>\n",
    "In general scalar arrays fields are used to encode arrays of data of the same scalar type.\n",
    "\n",
    "The possible scalar types are the same as for scalar fields:\n",
    "  * boolean\n",
    "  * 8, 16, 32 or 64-bit signed integers: byte, short, int, long\n",
    "  * 8, 16, 32 or 64-bit signed integers: ubyte, ushort, uint, ulong\n",
    "  * 32 or 64-bit floating point numbers\n",
    "  * string\n",
    "\n",
    "<br/>\n",
    "Like scalars, the introspection type of a scalar array field is completely specified by the scalar type."
   ]
  },
  {
   "cell_type": "markdown",
   "metadata": {
    "slideshow": {
     "slide_type": "subslide"
    }
   },
   "source": [
    "<sub-slide>\n",
    "We write the introspection type in the meta language as\n",
    "```\n",
    "<scalar-type>[]\n",
    "```\n",
    "So the possible introspection types are\n",
    "  * boolean[]\n",
    "  * byte[], short[], int[], long[]\n",
    "  * ubyte[], ushort[], uint[], ulong[]\n",
    "  * float[], double[]\n",
    "  * string[]\n",
    "\n",
    "<br/>\n",
    "Fields are written \n",
    "```\n",
    "<scalar-type>[] <field-name>\n",
    "```\n",
    "\n",
    "<br/>\n",
    "For example\n",
    "```\n",
    "string[] labels\n",
    "double[] value\n",
    "int[] status\n",
    "```"
   ]
  },
  {
   "cell_type": "markdown",
   "metadata": {
    "slideshow": {
     "slide_type": "subslide"
    }
   },
   "source": [
    "The value data consists of zero or more scalar values. The set of possible values for each element is the same as for the values scalar field.\n",
    "<br/>\n",
    "We write these values as a comma separated list with square brackets.\n",
    "<br/>\n",
    "So examples of the data objects corresponding to the above fields are\n",
    "```\n",
    "string[] labels [value,  seconds, nanoseconds,  status, severity] \n",
    "double[] value  [1.1, 1.2, 2.0] \n",
    "int[] status    [  0,   0,   3]\n",
    "```"
   ]
  }
 ],
 "metadata": {
  "celltoolbar": "Slideshow",
  "kernelspec": {
   "display_name": "Python 2",
   "language": "python",
   "name": "python2"
  },
  "language_info": {
   "codemirror_mode": {
    "name": "ipython",
    "version": 2
   },
   "file_extension": ".py",
   "mimetype": "text/x-python",
   "name": "python",
   "nbconvert_exporter": "python",
   "pygments_lexer": "ipython2",
   "version": "2.7.6"
  }
 },
 "nbformat": 4,
 "nbformat_minor": 0
}
