{
 "cells": [
  {
   "cell_type": "markdown",
   "metadata": {
    "slideshow": {
     "slide_type": "slide"
    }
   },
   "source": [
    "# EPICS V4 Seminar\n",
    "***"
   ]
  },
  {
   "cell_type": "markdown",
   "metadata": {
    "slideshow": {
     "slide_type": "slide"
    }
   },
   "source": [
    "# Aims of course  \n",
    "* Understand key V4 concepts\n",
    "* Be able to get started with V4 and know where to find information\n",
    "* Be able to use V4 command line tools\n",
    "* Be able to create V4 data structures\n",
    "* Be able to implement simple V4 server and client examples"
   ]
  },
  {
   "cell_type": "markdown",
   "metadata": {
    "slideshow": {
     "slide_type": "slide"
    }
   },
   "source": [
    "# What’s covered:\n",
    "* What is V4 and what can I do with it?  \n"
   ]
  },
  {
   "cell_type": "markdown",
   "metadata": {
    "slideshow": {
     "slide_type": "fragment"
    }
   },
   "source": [
    "* Basic V4 concepts\n",
    "  * pvData and pvAccess\n",
    "  * Normative Types\n",
    "  * pvRequest"
   ]
  },
  {
   "cell_type": "markdown",
   "metadata": {
    "slideshow": {
     "slide_type": "fragment"
    }
   },
   "source": [
    "* How to get started with V4\n",
    "  * resources and modules"
   ]
  },
  {
   "cell_type": "markdown",
   "metadata": {
    "slideshow": {
     "slide_type": "fragment"
    }
   },
   "source": [
    "* V3/V4 interoperability"
   ]
  },
  {
   "cell_type": "markdown",
   "metadata": {
    "slideshow": {
     "slide_type": "fragment"
    }
   },
   "source": [
    "* pvTools"
   ]
  },
  {
   "cell_type": "markdown",
   "metadata": {
    "slideshow": {
     "slide_type": "fragment"
    }
   },
   "source": [
    "* Writing a V4 service"
   ]
  },
  {
   "cell_type": "markdown",
   "metadata": {
    "slideshow": {
     "slide_type": "fragment"
    }
   },
   "source": [
    "* pvData APIs"
   ]
  },
  {
   "cell_type": "markdown",
   "metadata": {
    "slideshow": {
     "slide_type": "fragment"
    }
   },
   "source": [
    "* Normative Types API"
   ]
  },
  {
   "cell_type": "markdown",
   "metadata": {
    "slideshow": {
     "slide_type": "fragment"
    }
   },
   "source": [
    "* pvaSrv"
   ]
  },
  {
   "cell_type": "markdown",
   "metadata": {
    "slideshow": {
     "slide_type": "fragment"
    }
   },
   "source": [
    "* pvDatabase"
   ]
  },
  {
   "cell_type": "markdown",
   "metadata": {
    "slideshow": {
     "slide_type": "fragment"
    }
   },
   "source": [
    "* pvaClient"
   ]
  },
  {
   "cell_type": "markdown",
   "metadata": {
    "slideshow": {
     "slide_type": "subslide"
    }
   },
   "source": [
    "# What’s not covered:\n",
    "* pvAccess APIs\n",
    "* pvAccess network protocol\n",
    "* Specific V4 applications\n",
    "* Java bindings\n",
    "* Python"
   ]
  },
  {
   "cell_type": "markdown",
   "metadata": {
    "collapsed": true,
    "slideshow": {
     "slide_type": "slide"
    }
   },
   "source": [
    "# What is EPICS Version 4?\n",
    "* EPICS is  set of tools, libraries and applications to create distributed control system\n",
    "* Adds structured data to EPICS"
   ]
  },
  {
   "cell_type": "markdown",
   "metadata": {
    "collapsed": true,
    "slideshow": {
     "slide_type": "subslide"
    }
   },
   "source": [
    "# In EPICS V3 we deal with single values and limited set of data structures.\n",
    "### PV is a representation of a single value on EPICS V3 host\n",
    "### Types of these values are from basic set of simple types: \n",
    "* DBR_CHAR, DBR_SHORT, DBR_LONG, DBR_FLOAT, DBR_DOUBLE, DBR_STRING, DBR_ENUM\n",
    "\n",
    "### Channel Access channels are connections to single PV.\n",
    "### Limited support for structured data:\n",
    "* DBR_STS types add alarm status and severity\n",
    "* DBR_TIME adds time stamps to DBR_STS\n",
    "* DBR_GR adds alarm limits, units and precision to DBR_STS\n",
    "* DBR_CTRL adds control limits to DBR_GR"
   ]
  },
  {
   "cell_type": "markdown",
   "metadata": {
    "collapsed": true,
    "slideshow": {
     "slide_type": "subslide"
    }
   },
   "source": [
    "# In EPICS V4 there is support for a rich set of data types\n",
    "## pvData: A system of structured data types\n",
    "## pvAccess: operations involving pvData structures and network protocol to carry them\n",
    "* Can get, put, monitor structures. (And do some other things too like RPC)"
   ]
  },
  {
   "cell_type": "markdown",
   "metadata": {
    "slideshow": {
     "slide_type": "slide"
    }
   },
   "source": [
    "# What can we do with it?\n",
    "### V4 can do everything V3 can do (but better)\n",
    "Can construct pvData structures analogous to DBR types.\n",
    "For example the equivalent of a DBR_TIME_DOUBLE would be the structure:\n",
    "```java\n",
    "NTScalar\n",
    "\tdouble value\n",
    "\talarm_t alarm\n",
    "\t\tint severity\n",
    "\t\tint status\n",
    "\t\tstring message\n",
    "\ttime_t timeStamp\n",
    "\t\tlong secondsPastEpoch \n",
    "\t\tint nanoseconds\n",
    "\t\tint userTag\n",
    "```\n",
    "(We’ll cover pvData in more depth later)\n"
   ]
  },
  {
   "cell_type": "markdown",
   "metadata": {
    "slideshow": {
     "slide_type": "subslide"
    }
   },
   "source": [
    "In **V4** can create a channel to a structured PV and get a subset of fields equivalent to a DBR type. So for a PV whose principal value is a double we can get the equivalent to DBR_TIME_DOUBLE, which, including values, might look something like\n",
    "```c++\n",
    "NTScalar\n",
    "\tdouble value 8\n",
    "\talarm_t alarm\n",
    "\t\tint severity 2\n",
    "\t\tint status 3\n",
    "\t\tstring message HIHI_ALARM\n",
    "\ttime_t timeStamp\n",
    "\t\tlong secondsPastEpoch 1460589140\n",
    "\t\tint nanoseconds 389605397\n",
    "\t\tint userTag 0\n",
    "```"
   ]
  },
  {
   "cell_type": "markdown",
   "metadata": {},
   "source": [
    "In V4 can go beyond DBR types by asking for combinations not possible in CA. Possible to request arbitrary subsets of these structures\n",
    "E.g.\n",
    "time stamp without alarm\n",
    "Control limits and time stamp at the same time.\n",
    "\n",
    "In pvAccess operations, on the wire we only need send deltas. So if the value of the structure in the above example is modified:\n",
    "```java\n",
    "NTScalar \n",
    "\tdouble value 8.1\n",
    "\talarm_t alarm\n",
    "\t\tint severity 2\n",
    "\t\tint status 3\n",
    "\t\tstring message HIHI_ALARM\n",
    "\ttime_t timeStamp \n",
    "\t\tlong secondsPastEpoch 1460589145 \n",
    "\t\tint nanoseconds 588698520 \n",
    "\t\tint userTag 0\n",
    "```\n",
    "only changed values (in bold) need be sent (plus changed bitset).\n",
    "\n",
    "Minimum data required to be sent: \n",
    "* Changed values: 8.1, 1460589145, 588698520 (8+8+4=20 bytes)\n",
    "* Changed bitset: {1,7,8} (1+2=3 bytes)  "
   ]
  },
  {
   "cell_type": "markdown",
   "metadata": {
    "slideshow": {
     "slide_type": "subslide"
    }
   },
   "source": [
    "# V4 fixes a number of problems in V3:\n",
    "### V4 has better support for Arrays:\n",
    "* No element_count upper limit (fixed and bounded arrays possible)\n",
    "* Clear distinction between arrays of size 1 and scalars\n",
    "\n",
    "### Better support for Strings:  \n",
    "* Arbitrary size  \n",
    "* No fixed limit or need for long string workaround\n",
    "\n",
    "### Much better support for arrays of strings\n",
    "* Handles arbitrary number of arbitrary lengths strings\n",
    "\n",
    "### Better support for signed/unsigned types\n",
    "* Separate types for unsigned and signed and support on the wire for encoding.\n",
    "    \n",
    "### 64-bit integers\n",
    "### Enums not limited to 16 values"
   ]
  },
  {
   "cell_type": "markdown",
   "metadata": {
    "slideshow": {
     "slide_type": "slide"
    }
   },
   "source": [
    "# EPICS V4 allows possibility of group operations.\n",
    "### Possibility of atomic operations on group of PVs. \n",
    "* e.g. for PVs X and Y, representing x and y coordinates, can have a channel to group PV and get, for example the values and time stamps of the 2 position PVs:\n",
    "\n",
    "```java\n",
    "\n",
    "structure\n",
    "    NTScalar\n",
    "\t\tdouble X 1.1\n",
    "\t\ttime_t timeStamp\n",
    "\t\t\tlong secondsPastEpoch 1460589140\n",
    "\t\t\tint nanoseconds 385960397\n",
    "\t\t\tint userTag 0\n",
    "    NTScalar\n",
    "        double Y 2.3\n",
    "        time_t timeStamp\n",
    "            long secondsPastEpoch 1460589140\n",
    "            int nanoseconds 385643513\n",
    "            int userTag 0\n",
    "```"
   ]
  },
  {
   "cell_type": "markdown",
   "metadata": {
    "slideshow": {
     "slide_type": "subslide"
    }
   },
   "source": [
    "Note in V4 can also create structures like this:\n",
    "```java\n",
    "structure\n",
    "\tstructure value\n",
    "        double X 1.1\n",
    "        double Y 2.3\n",
    "\ttime_t timeStamp\n",
    "\t\tlong secondsPastEpoch 1460589140\n",
    "\t\tint nanoseconds 385960397\n",
    "\t\tint userTag 0\n",
    "```\n",
    "where we think of a point as being the fundamental object rather than be made up of two coordinates. "
   ]
  },
  {
   "cell_type": "markdown",
   "metadata": {
    "slideshow": {
     "slide_type": "slide"
    }
   },
   "source": [
    "### Complex Data Types\n",
    "\n",
    "pvData can encode more complex data types like a table:\n",
    "\n",
    "```java\n",
    "NTTable\n",
    "\tstring[] labels [ value, seconds, nanoseconds, status, severity] \n",
    "\tstructure value\n",
    "\t\tdouble[] value [ 1.1, 1.2, 2.0] \n",
    "\t\tlong[] secondsPastEpoch [1460589140, 1460589141, 1460589142]\n",
    "\t\tint[] nanoseconds [ 164235768, 164235245, 164235256]\n",
    "\t\tint[] severity [0, 0, 1]\n",
    "\t\tint[] status [0, 0, 3]\n",
    "```\n",
    "\n",
    "or a request:\n",
    "\n",
    "```java\n",
    "NTURI \n",
    "\tstring path archiveService\n",
    "\tstring scheme pva \n",
    "\tstructure query\n",
    "\t\tstring entity emittance\n",
    "\t\tstring starttime  1460589140\n",
    "  \t\tstring endtime  1460589143\n",
    "```\n"
   ]
  },
  {
   "cell_type": "markdown",
   "metadata": {
    "slideshow": {
     "slide_type": "slide"
    }
   },
   "source": [
    "### EPICS V4 Services\n",
    "pvAccess adds an RPC operation.\n",
    "\n",
    "Client sends a structure argument and server returns a structure response.\n",
    "\n",
    "Allows creation of V4 services:\n",
    "\n",
    "* Archiver service\n",
    "* Magnet polynomial service\n",
    "* Snapshot/restore\n",
    "* Twiss parameters "
   ]
  },
  {
   "cell_type": "markdown",
   "metadata": {
    "slideshow": {
     "slide_type": "slide"
    }
   },
   "source": [
    "### Complex control\n",
    "Possible to create complex structures representing, for example, a detector, camera driver, file writer or camera plugin.\n",
    "\n",
    "Can put to subset of fields for control or monitor whole structure.\n",
    "\n",
    "With RPC can add “methods” and create distributed objects."
   ]
  },
  {
   "cell_type": "markdown",
   "metadata": {
    "slideshow": {
     "slide_type": "slide"
    }
   },
   "source": [
    "### V4 for experiment data: \n",
    "Can put experiment data in a structure “PV” and monitor.  \n",
    "### Examples:\n",
    "* areaDetector NDArrays\n",
    "* Neutron data  "
   ]
  },
  {
   "cell_type": "markdown",
   "metadata": {
    "slideshow": {
     "slide_type": "subslide"
    }
   },
   "source": [
    "For example 1 frame of areaDetector data can be encoded using the structure of the following type:"
   ]
  },
  {
   "cell_type": "markdown",
   "metadata": {
    "slideshow": {
     "slide_type": "fragment"
    }
   },
   "source": [
    "```java\n",
    "NTNDArray\n",
    "    union value\n",
    "        boolean[] booleanValue\n",
    "        byte[] byteValue\n",
    "        short[] shortValue\n",
    "        int[] intValue\n",
    "        long[] longValue\n",
    "        ubyte[] ubyteValue\n",
    "        ushort[] ushortValue\n",
    "        uint[] uintValue\n",
    "        ulong[] ulongValue\n",
    "        float[] floatValue\n",
    "        double[] doubleValue\n",
    "    codec_t codec\n",
    "        string name\n",
    "        any parameters\n",
    "    long compressedSize\n",
    "    long uncompressedSize\n",
    "    dimension_t[] dimension\n",
    "        dimension_t\n",
    "            int size\n",
    "            int offset\n",
    "            int fullSize\n",
    "            int binning\n",
    "            boolean reverse\n",
    "    int uniqueId\n",
    "    time_t dataTimeStamp\n",
    "        long secondsPastEpoch\n",
    "        int nanoseconds\n",
    "        int userTag\n",
    "     NTAttribute [] attribute\n",
    "         NTAttribute\n",
    "            string name\n",
    "            any value\n",
    "            string descriptor\n",
    "            int sourceType\n",
    "            string source\n",
    "```"
   ]
  }
 ],
 "metadata": {
  "celltoolbar": "Slideshow",
  "kernelspec": {
   "display_name": "Python 2",
   "language": "python",
   "name": "python2"
  },
  "language_info": {
   "codemirror_mode": {
    "name": "ipython",
    "version": 2
   },
   "file_extension": ".py",
   "mimetype": "text/x-python",
   "name": "python",
   "nbconvert_exporter": "python",
   "pygments_lexer": "ipython2",
   "version": "2.7.11"
  }
 },
 "nbformat": 4,
 "nbformat_minor": 0
}
