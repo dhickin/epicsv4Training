{
 "cells": [
  {
   "cell_type": "markdown",
   "metadata": {
    "slideshow": {
     "slide_type": "slide"
    }
   },
   "source": [
    "# EPICS V4 Training\n",
    "\n",
    "<br>\n",
    "* 1-day course: [ overview ](1-day-course-overview.slides.html), [ agenda ](1-day-course-agenda.slides.html)\n",
    "* 2-day course: [ overview ](2-day-course-overview.slides.html), [ agenda ](2-day-course-agenda.slides.html)\n"
   ]
  }
 ],
 "metadata": {
  "celltoolbar": "Slideshow",
  "kernelspec": {
   "display_name": "Python 2",
   "language": "python",
   "name": "python2"
  },
  "language_info": {
   "codemirror_mode": {
    "name": "ipython",
    "version": 2
   },
   "file_extension": ".py",
   "mimetype": "text/x-python",
   "name": "python",
   "nbconvert_exporter": "python",
   "pygments_lexer": "ipython2",
   "version": "2.7.12"
  }
 },
 "nbformat": 4,
 "nbformat_minor": 0
}
