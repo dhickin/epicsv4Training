{
 "cells": [
  {
   "cell_type": "markdown",
   "metadata": {
    "slideshow": {
     "slide_type": "slide"
    }
   },
   "source": [
    "# Overview\n",
    "***"
   ]
  },
  {
   "cell_type": "markdown",
   "metadata": {
    "slideshow": {
     "slide_type": "slide"
    }
   },
   "source": [
    "# Key Concepts"
   ]
  },
  {
   "cell_type": "markdown",
   "metadata": {
    "slideshow": {
     "slide_type": "slide"
    }
   },
   "source": [
    "# pvData\n",
    "\n",
    "* System of structured data types\n",
    "* Scalar fields\n",
    "* Variant and regular (tagged) unions\n",
    "* Arrays\n",
    "* Structured fields (nested structures)"
   ]
  },
  {
   "cell_type": "markdown",
   "metadata": {
    "slideshow": {
     "slide_type": "slide"
    }
   },
   "source": [
    "# pvAccess\n",
    "* Defined by pvAccess protocol specification\n",
    "* pvAccess is the EPICS Version 4 communication protocol.\n",
    "* High performance network protocol.\n",
    "* Designed to carry pvData.\n",
    "* Successor to Channel Access. \n",
    "\n"
   ]
  },
  {
   "cell_type": "markdown",
   "metadata": {
    "slideshow": {
     "slide_type": "slide"
    }
   },
   "source": [
    "# Normative Types\n",
    "* Standard types to aid interoperability\n",
    "* Defines standard structures for alarm, timestamps enumerations\n",
    "* Standard types for scalar, scalar array and enum PVs\n",
    "* More complex types such as tables and detector images\n"
   ]
  },
  {
   "cell_type": "markdown",
   "metadata": {
    "slideshow": {
     "slide_type": "subslide"
    }
   },
   "source": [
    "<pre>\n",
    "<span class=\"nterm\" style=\"font-style: italic;\">NTScalar</span> := \n",
    "\n",
    "structure\n",
    "    <span class=\"nterm\" style=\"font-style: italic;\">scalar_t</span>    value\n",
    "    string      descriptor  :opt\n",
    "    <span class=\"nterm\" style=\"font-style: italic;\">alarm_t</span>     alarm       :opt\n",
    "    <span class=\"nterm\" style=\"font-style: italic;\">time_t</span>      timeStamp   :opt\n",
    "    <span class=\"nterm\" style=\"font-style: italic;\">display_t</span>   display     :opt\n",
    "    <span class=\"nterm\" style=\"font-style: italic;\">control_t   control     :opt\n",
    "</pre>\n",
    "\n",
    "* Specification of standard, named type\n",
    "* Often choices (field types, field names)\n",
    "* Required and optional fields\n",
    "* Extra fields can be added\n",
    "* Italics denote definitions (non-terminal terms)"
   ]
  },
  {
   "cell_type": "markdown",
   "metadata": {
    "slideshow": {
     "slide_type": "slide"
    }
   },
   "source": [
    "# pvRequest and pvRequest string\n",
    "* Draft standard\n",
    "* Requests for part of a structure\n",
    "* Processing options (process, block)\n",
    "* Monitoring options: Queue size. (Deadband, server-side filtering in the future)\n",
    "* RPC: TBD"
   ]
  },
  {
   "cell_type": "markdown",
   "metadata": {
    "slideshow": {
     "slide_type": "subslide"
    }
   },
   "source": [
    "# pvRequest\n",
    "<br>\n",
    "If a PV has structure\n",
    "```\n",
    "NTScalar\n",
    "    double value\n",
    "    alarm_t alarm\n",
    "        int severity\n",
    "        int status\n",
    "        string message\n",
    "    time_t timeStamp\n",
    "        long secondsPastEpoch\n",
    "        int nanoseconds\n",
    "        int userTag\n",
    "```\n",
    "\n",
    "then the pvRequest structure\n",
    "```\n",
    "structure\n",
    "    structure field\n",
    "        structure value\n",
    "        structure alarm\n",
    "            structure severity\n",
    "        structure timeStamp\n",
    "            structure secondsPastEpoch\n",
    "            structure nanoseconds\n",
    "```\n",
    "supplied when you create a channel get, for example, is a request for\n",
    "\n",
    "```\n",
    "structure\n",
    "    double value\n",
    "    structure alarm\n",
    "        int severity\n",
    "    structure timeStamp\n",
    "        long secondsPastEpoch\n",
    "        int nanoseconds\n",
    "```"
   ]
  },
  {
   "cell_type": "markdown",
   "metadata": {
    "slideshow": {
     "slide_type": "subslide"
    }
   },
   "source": [
    "# pvRequest string\n",
    "<br>\n",
    "A string representation of this is\n",
    "```\n",
    "    field(value,alarm.severity,timeStamp{secondsPastEpoch,nanoseconds})\n",
    "```\n",
    "\n",
    "The short form is also possible\n",
    "```\n",
    "    value,alarm.severity,timeStamp{secondsPastEpoch,nanoseconds}\n",
    "```"
   ]
  },
  {
   "cell_type": "markdown",
   "metadata": {
    "slideshow": {
     "slide_type": "slide"
    }
   },
   "source": [
    "# EPICS V4  work"
   ]
  },
  {
   "cell_type": "markdown",
   "metadata": {
    "slideshow": {
     "slide_type": "slide"
    }
   },
   "source": [
    "# EPICS V4  ...\n",
    "* Is a collaboration\n",
    "* Produces open standards\n",
    "* Provides reference implementations, including releases\n",
    "* Is administered through the working group\n",
    "\n",
    "<br/>\n",
    "Regular communication (email/GitHub, teleconference, face-to-face)"
   ]
  },
  {
   "cell_type": "markdown",
   "metadata": {
    "slideshow": {
     "slide_type": "slide"
    }
   },
   "source": [
    "# Resources\n",
    "\n"
   ]
  },
  {
   "cell_type": "markdown",
   "metadata": {
    "slideshow": {
     "slide_type": "slide"
    }
   },
   "source": [
    "# EPICS V4 Resources\n",
    "\n",
    "* SourceForge Website: <a href=\"http://epics-pvdata.sourceforge.net/\">http://epics-pvdata.sourceforge.net/</a>\n",
    "\n",
    "* GitHub: <a href=\"https://github.com/epics-base\">https://github.com/epics-base</a>\n"
   ]
  },
  {
   "cell_type": "markdown",
   "metadata": {
    "slideshow": {
     "slide_type": "subslide"
    }
   },
   "source": [
    "# Key pages\n",
    "\n",
    "* Documentation: <a href=\"http://epics-pvdata.sourceforge.net/literature.html\">http://epics-pvdata.sourceforge.net/literature.html</a>\n",
    "    * Module documentation and doxygen/Javadoc\n",
    "    * Specifications/standards\n",
    "    * Guides\n",
    "* Downloads: <a href=\"https://sourceforge.net/projects/epics-pvdata/files/\">https://sourceforge.net/projects/epics-pvdata/files/</a>\n"
   ]
  },
  {
   "cell_type": "markdown",
   "metadata": {
    "slideshow": {
     "slide_type": "subslide"
    }
   },
   "source": [
    "# Key documents\n",
    "\n",
    "<p>On the documentation page:</p> \n",
    "\n",
    "* <a href=\"http://epics-pvdata.sourceforge.net/pvAccess_Protocol_Specification.html\">pvAccess Protocol Specification</a>\n",
    "* <a href=\"http://epics-pvdata.sourceforge.net/alpha/normativeTypes/normativeTypes.html\">Normative Types Specification</a>\n",
    "* <a href=\"http://epics-pvdata.sourceforge.net/informative/pvRequest.html\">pvRequest specification</a>\n",
    "* <a href=\"http://epics-pvdata.sourceforge.net/gettingStarted.html\">Getting started guide</a>\n",
    "* <a href=\"http://epics-pvdata.sourceforge.net/informative/developerGuide/developerGuide.html\">Developer Guide</a>"
   ]
  },
  {
   "cell_type": "markdown",
   "metadata": {
    "slideshow": {
     "slide_type": "slide"
    }
   },
   "source": [
    "# Modules"
   ]
  },
  {
   "cell_type": "markdown",
   "metadata": {
    "slideshow": {
     "slide_type": "slide"
    }
   },
   "source": [
    "* pvDataCPP/pvDataJava: Implementation of pvData\n",
    "* pvAccessCPP/pvAccessJava: Implementation of pvAccess\n",
    "* normativeTypesCPP/normativeTypesJava: Implementation of Normative Types\n",
    "* pvCommonCPP: Boost shared pointers (for RTEMS/VxWorks) and micro-benchmarking\n",
    "* pvaSrv: Adding pvAccess to existing V3 IOC (C++ only)\n",
    "* pvDatabaseCPP/pvDatabaseJava: Record/Database library for creating V4 IOCs\n",
    "* pvaClientCPP/pvaClientJava: High-level client library\n",
    "* pvaPy: EPICS V4 Python library\n"
   ]
  },
  {
   "cell_type": "markdown",
   "metadata": {
    "slideshow": {
     "slide_type": "slide"
    }
   },
   "source": [
    "# Revision numbering\n",
    "\n",
    "<p>&lt;Major&gt;.&lt;Minor&gt;&lt;.Revision&gt;\n",
    "\n",
    "where major denotes ABI changes and minor denotes API changes (for major version 0 minor changes can be ABI changing).\n",
    "\n",
    "Also release bundles with numbering\n",
    "\n",
    "\n",
    "<p>4.&lt;Major&gt;.&lt;Minor&gt;.&lt;Revision&gt;</p>"
   ]
  }
 ],
 "metadata": {
  "celltoolbar": "Slideshow",
  "kernelspec": {
   "display_name": "Python 2",
   "language": "python",
   "name": "python2"
  },
  "language_info": {
   "codemirror_mode": {
    "name": "ipython",
    "version": 2
   },
   "file_extension": ".py",
   "mimetype": "text/x-python",
   "name": "python",
   "nbconvert_exporter": "python",
   "pygments_lexer": "ipython2",
   "version": "2.7.12"
  }
 },
 "nbformat": 4,
 "nbformat_minor": 0
}
