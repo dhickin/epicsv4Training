{
 "cells": [
  {
   "cell_type": "markdown",
   "metadata": {},
   "source": [
    "# Training examples\n",
    "\n",
    "To get things running we need a version of Python that has a recent version of ipython.  Unfortunately\n",
    "the version of ipython at Diamond is way out of date - so it needs to be upgraded.  That in turn means\n",
    "installing without admin priveleges.\n",
    "\n",
    "1. To run Python:  \n",
    "```\n",
    "module load python/ana\n",
    "```  \n",
    "\n",
    "2. To install ipython in your home directory:\n",
    "```\n",
    "pip install --user ipython\n",
    "```  \n",
    "and check the version is >= 4.2.0\n",
    "```\n",
    "ipython --version\n",
    "```\n",
    "3. To run ipython:\n",
    "```\n",
    "cd <to-the-directory-of-the-notebook>\n",
    "ipython notebook\n",
    "```\n",
    "4. To build the presentation from <training.ipynb>:\n",
    "```\n",
    "ipython nbconvert training.ipynb --to slides --reveal-prefix \"http://cdn.jsdelivr.net/reveal.js/2.6.2\"\n",
    "```\n",
    "5. To view the presentation in the browser, first run a Python Web Server:\n",
    "\tpython -m SimpleHTTPServer 8000 &\n",
    "\n",
    "6. Now you can view the presentation:\n",
    "\tfirefox http://localhost:8000/training.slides.html\n",
    "\t\n",
    "7. Steps 4, 5 and 6 can be done all at once with:\n",
    "\tipython nbconvert training.ipynb --to slides --post serve\n"
   ]
  },
  {
   "cell_type": "markdown",
   "metadata": {},
   "source": []
  },
  {
   "cell_type": "code",
   "execution_count": null,
   "metadata": {
    "collapsed": true
   },
   "outputs": [],
   "source": []
  }
 ],
 "metadata": {
  "kernelspec": {
   "display_name": "Python 2",
   "language": "python",
   "name": "python2"
  },
  "language_info": {
   "codemirror_mode": {
    "name": "ipython",
    "version": 2
   },
   "file_extension": ".py",
   "mimetype": "text/x-python",
   "name": "python",
   "nbconvert_exporter": "python",
   "pygments_lexer": "ipython2",
   "version": "2.7.6"
  }
 },
 "nbformat": 4,
 "nbformat_minor": 0
}
