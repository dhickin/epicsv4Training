{
 "cells": [
  {
   "cell_type": "markdown",
   "metadata": {
    "slideshow": {
     "slide_type": "slide"
    }
   },
   "source": [
    "# Exercise 1\n",
    "\n"
   ]
  },
  {
   "cell_type": "markdown",
   "metadata": {
    "slideshow": {
     "slide_type": "slide"
    }
   },
   "source": [
    "# Maths Service\n",
    "\n",
    "<br>\n",
    "You are going to write a simple service which takes 2 numbers and returns their sum.\n"
   ]
  },
  {
   "cell_type": "markdown",
   "metadata": {
    "slideshow": {
     "slide_type": "fragment"
    }
   },
   "source": [
    "A template solution, \"maths-template\", is provided in exercise-templates.\n",
    "\n",
    "Make a copy and fill in the implementation.\n",
    "\n",
    "The layout is very similar to the <a href=\"https://github.com/epics-base/exampleCPP/tree/4.1.1/HelloWorld\">Hello World service</a>. You can look there to see how you might supply the implementation for your service."
   ]
  },
  {
   "cell_type": "markdown",
   "metadata": {
    "slideshow": {
     "slide_type": "slide"
    }
   },
   "source": [
    "<p>1. Using the template \"maths-template\", create a Maths service which takes a structure</p>\n",
    "\n",
    "<pre>\n",
    "structure\n",
    "    string a\n",
    "    string b\n",
    "</pre>\n",
    "\n",
    "converts the values of the fields to doubles, calculates the sum and returns the structure\n",
    "\n",
    "<pre>\n",
    "structure\n",
    "    double sum\n",
    "</pre>\n",
    "\n",
    "where the sum field contains the calculated sum.\n",
    "\n",
    "\n",
    "Test it by:\n",
    "\n",
    "a) starting the server with\n",
    "\n",
    "   $ ./mathsServerRunner\n",
    "\n",
    "b) using eget:\n",
    "```BASH\n",
    "\n",
    "   $ eget -z -N -a \"a=<NUM1>\" -a \"b=<NUM2>\" mathService\n",
    "```\n",
    "\n",
    "\n",
    "\n"
   ]
  },
  {
   "cell_type": "markdown",
   "metadata": {
    "slideshow": {
     "slide_type": "subslide"
    }
   },
   "source": [
    "[ Hints:\n",
    "\n",
    "a) Look at the Hello World Service example, in particular <a href=\"https://github.com/epics-base/exampleCPP/blob/4.1.1/HelloWorld/helloWorldApp/HelloService.cpp\">HelloService.cpp</a>. Use this\n",
    "   as a basis.\n",
    "\n",
    "b) Scalar fields of type double use PVDouble instead of PVString and have\n",
    "   ScalarType pvDouble instead of pvString. PVDouble has a similar API , but put() and get() respectively return and take a std::string instread of a double.\n",
    "\n",
    "c) You'll have to convert strings to doubles. atof(const char`*`) is good enough\n",
    "   for this here:\n",
    "   \n",
    "```C++\n",
    "atof(<your-string>.c_str())\n",
    "\n",
    "```\n",
    "<br>\n",
    "\n",
    "d) Build using make.\n",
    "\n",
    "\n",
    "]"
   ]
  },
  {
   "cell_type": "markdown",
   "metadata": {
    "slideshow": {
     "slide_type": "slide"
    }
   },
   "source": [
    "<p>2. Modify client to send the structure instead of using eget.</p>\n",
    "\n",
    "(You'll need to uncomment the client in src/Makefile)\n",
    "\n",
    "Test it by:\n",
    "\n",
    "a) starting the server with\n",
    "<pre>\n",
    "   $ ./mathsServerRunner\n",
    "</pre>\n",
    "\n",
    "b) using the client\n",
    "\n",
    "<pre>\n",
    "   $ ./mathsClientRunner &lt;NUM1&gt; &lt;NUM2&gt;\n",
    "</pre>\n",
    "\n",
    "\n"
   ]
  },
  {
   "cell_type": "markdown",
   "metadata": {
    "slideshow": {
     "slide_type": "slide"
    }
   },
   "source": [
    "<p>3. Make the arguments doubles</p>\n",
    "\n",
    "(You'll need to modify the client to send doubles and the server to process them)\n",
    "\n",
    "Test it by:\n",
    "\n",
    "a) starting the server with\n",
    "<pre>\n",
    "   $ ./mathsServerRunner\n",
    "</pre>\n",
    "\n",
    "b) using the client\n",
    "\n",
    "<pre>\n",
    "   $ ./mathsClientRunner &lt;NUM1&gt; &lt;NUM2&gt;\n",
    "</pre>\n",
    "\n",
    "\n"
   ]
  },
  {
   "cell_type": "markdown",
   "metadata": {
    "slideshow": {
     "slide_type": "slide"
    }
   },
   "source": [
    "<p>4. Add product and difference fields:</p>\n",
    "<pre>\n",
    "structure\n",
    "    double sum\n",
    "    double product\n",
    "    double difference\n",
    "</pre>\n",
    "\n",
    "\n"
   ]
  }
 ],
 "metadata": {
  "celltoolbar": "Slideshow",
  "kernelspec": {
   "display_name": "Python 2",
   "language": "python",
   "name": "python2"
  },
  "language_info": {
   "codemirror_mode": {
    "name": "ipython",
    "version": 2
   },
   "file_extension": ".py",
   "mimetype": "text/x-python",
   "name": "python",
   "nbconvert_exporter": "python",
   "pygments_lexer": "ipython2",
   "version": "2.7.11"
  }
 },
 "nbformat": 4,
 "nbformat_minor": 0
}
